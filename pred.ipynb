{
 "cells": [
  {
   "cell_type": "code",
   "execution_count": 1,
   "id": "8173a365",
   "metadata": {},
   "outputs": [],
   "source": [
    "from ultralytics import YOLO"
   ]
  },
  {
   "cell_type": "code",
   "execution_count": 2,
   "id": "a9dc088c",
   "metadata": {},
   "outputs": [],
   "source": [
    "model = YOLO(\"E:/SOI_SC/runs/detect/train6/weights/best.pt\")"
   ]
  },
  {
   "cell_type": "code",
   "execution_count": null,
   "id": "a488297a",
   "metadata": {},
   "outputs": [],
   "source": [
    "model(source=\"E:/SOI_SC/Data/images/val/7.947675057711304,9.319555897548636,-60.906892382103955,-59.53501154226666.png\", show=True, save=True, show_labels=False, line_width=1)"
   ]
  },
  {
   "cell_type": "code",
   "execution_count": null,
   "id": "ee2c33d3",
   "metadata": {},
   "outputs": [],
   "source": [
    "model(source=\"E:/SOI_SC/Data/images/val/-19.48994173903485,-18.11806089919752,57.074859843904555,58.44674068374186.png\", show=True, save=True, show_labels=False, line_width=1)"
   ]
  }
 ],
 "metadata": {
  "kernelspec": {
   "display_name": "base",
   "language": "python",
   "name": "python3"
  },
  "language_info": {
   "codemirror_mode": {
    "name": "ipython",
    "version": 3
   },
   "file_extension": ".py",
   "mimetype": "text/x-python",
   "name": "python",
   "nbconvert_exporter": "python",
   "pygments_lexer": "ipython3",
   "version": "3.11.7"
  }
 },
 "nbformat": 4,
 "nbformat_minor": 5
}
