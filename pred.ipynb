{
 "cells": [
  {
   "cell_type": "code",
   "execution_count": 1,
   "id": "3cecab78",
   "metadata": {},
   "outputs": [],
   "source": [
    "from ultralytics import YOLO"
   ]
  },
  {
   "cell_type": "code",
   "execution_count": 2,
   "id": "61f60705",
   "metadata": {},
   "outputs": [],
   "source": [
    "model = YOLO(\"E:/SOI_SC/runs/detect/train6/weights/best.pt\")"
   ]
  },
  {
   "cell_type": "code",
   "execution_count": 3,
   "id": "d0f0372e",
   "metadata": {},
   "outputs": [
    {
     "name": "stdout",
     "output_type": "stream",
     "text": [
      "\n",
      "image 1/1 E:\\SOI_SC\\Data\\images\\val\\7.947675057711304,9.319555897548636,-60.906892382103955,-59.53501154226666.png: 640x640 106 craters, 187.9ms\n",
      "Speed: 4.3ms preprocess, 187.9ms inference, 2.6ms postprocess per image at shape (1, 3, 640, 640)\n",
      "Results saved to \u001b[1mruns\\detect\\predict\u001b[0m\n"
     ]
    }
   ],
   "source": [
    "results = model(source=\"E:/SOI_SC/Data/images/val/7.947675057711304,9.319555897548636,-60.906892382103955,-59.53501154226666.png\", show=True, save=True, show_labels=False, line_width=1)"
   ]
  },
  {
   "cell_type": "code",
   "execution_count": 4,
   "id": "902a5321",
   "metadata": {},
   "outputs": [
    {
     "name": "stdout",
     "output_type": "stream",
     "text": [
      "\n",
      "image 1/1 E:\\SOI_SC\\Data\\images\\val\\-19.48994173903485,-18.11806089919752,57.074859843904555,58.44674068374186.png: 640x640 75 craters, 157.1ms\n",
      "Speed: 4.0ms preprocess, 157.1ms inference, 2.8ms postprocess per image at shape (1, 3, 640, 640)\n",
      "Results saved to \u001b[1mruns\\detect\\predict\u001b[0m\n"
     ]
    }
   ],
   "source": [
    "results = model(source=\"E:/SOI_SC/Data/images/val/-19.48994173903485,-18.11806089919752,57.074859843904555,58.44674068374186.png\", show=True, save=True, show_labels=False, line_width=1)"
   ]
  }
 ],
 "metadata": {
  "kernelspec": {
   "display_name": "base",
   "language": "python",
   "name": "python3"
  },
  "language_info": {
   "codemirror_mode": {
    "name": "ipython",
    "version": 3
   },
   "file_extension": ".py",
   "mimetype": "text/x-python",
   "name": "python",
   "nbconvert_exporter": "python",
   "pygments_lexer": "ipython3",
   "version": "3.11.7"
  }
 },
 "nbformat": 4,
 "nbformat_minor": 5
}
