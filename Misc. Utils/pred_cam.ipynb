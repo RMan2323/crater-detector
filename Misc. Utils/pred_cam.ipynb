{
 "cells": [
  {
   "cell_type": "code",
   "execution_count": 1,
   "id": "b61aa9a6",
   "metadata": {},
   "outputs": [],
   "source": [
    "from ultralytics import YOLO"
   ]
  },
  {
   "cell_type": "code",
   "execution_count": 2,
   "id": "83223684",
   "metadata": {},
   "outputs": [],
   "source": [
    "model = YOLO(\"E:/SOI_SC/runs/detect/train16/weights/best.pt\")"
   ]
  },
  {
   "cell_type": "code",
   "execution_count": 3,
   "id": "56531bdc",
   "metadata": {},
   "outputs": [],
   "source": [
    "results = model(source=0, stream=True)"
   ]
  },
  {
   "cell_type": "code",
   "execution_count": null,
   "id": "0d3de585",
   "metadata": {},
   "outputs": [],
   "source": []
  }
 ],
 "metadata": {
  "kernelspec": {
   "display_name": "Python 3",
   "language": "python",
   "name": "python3"
  },
  "language_info": {
   "codemirror_mode": {
    "name": "ipython",
    "version": 3
   },
   "file_extension": ".py",
   "mimetype": "text/x-python",
   "name": "python",
   "nbconvert_exporter": "python",
   "pygments_lexer": "ipython3",
   "version": "3.9.13"
  }
 },
 "nbformat": 4,
 "nbformat_minor": 5
}
